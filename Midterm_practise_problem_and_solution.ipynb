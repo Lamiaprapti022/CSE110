{
  "nbformat": 4,
  "nbformat_minor": 0,
  "metadata": {
    "colab": {
      "provenance": []
    },
    "kernelspec": {
      "name": "python3",
      "display_name": "Python 3"
    },
    "language_info": {
      "name": "python"
    }
  },
  "cells": [
    {
      "cell_type": "markdown",
      "source": [
        "**2.1** Write a Python program that reads a number and finds the sum of the series of 1 +11 + 111\n",
        "+ 1111 + ….+N terms.\n",
        "______________________________________________________________________________\n",
        "Sample Input 1:\n",
        "5\n",
        "Sample Output 1:\n",
        "1 + 11 + 111 + 1111 + 11111\n",
        "The Sum is: 1234\n",
        "Sample Input 2:\n",
        "8\n",
        "Sample Output 2:\n",
        "1 + 11 + 111 + 1111 + 11111 + 111111 + 1111111 + 11111111\n",
        "The Sum is: 12345678\n"
      ],
      "metadata": {
        "id": "Ap07bYoOcQQo"
      }
    },
    {
      "cell_type": "code",
      "source": [
        "a = int(input())\n",
        "total = 0\n",
        "for i in range(a):\n",
        "  term = 0\n",
        "  for j in range(i+1):\n",
        "    term = term*10 + 1\n",
        "  total += term\n",
        "  if i != a-1:\n",
        "    print(term,end=\" + \")\n",
        "  else:\n",
        "    print(term)\n",
        "print(total)\n",
        "\n"
      ],
      "metadata": {
        "id": "V0y0NQmkcRdg"
      },
      "execution_count": null,
      "outputs": []
    },
    {
      "cell_type": "code",
      "source": [],
      "metadata": {
        "id": "8zVfReOn0fAD"
      },
      "execution_count": null,
      "outputs": []
    },
    {
      "cell_type": "markdown",
      "source": [
        "Write a Python program that reads a number and displays the multiplication table of the\n",
        "given integer.\n",
        "Sample Input: 15\n",
        "Sample Output :\n",
        "15X1=15\n",
        "15X2=30\n",
        "...\n",
        "...\n",
        "15X10=150\n"
      ],
      "metadata": {
        "id": "mSEcompoNdrg"
      }
    },
    {
      "cell_type": "code",
      "source": [
        "a = int(input())\n",
        "for i in range(1,11):\n",
        "  b = a*i\n",
        "  print(f\"{a}*{i}={b}\")"
      ],
      "metadata": {
        "id": "aJf3Y8tPNe7P"
      },
      "execution_count": null,
      "outputs": []
    },
    {
      "cell_type": "markdown",
      "source": [
        "________________________________________________________________________________________________________\n",
        "Read the value of n from the user and compute the value of the\n",
        "following series: result = (1**1)/1 + (2**2)/2 + (3**3)/3 +\n",
        "(4**4)/4 + ...... +(n**n)/n\n",
        "(Here, ** indicates power)\n",
        "_____________________________________________________________________________________\n",
        "Sample Input: 3\n",
        "Output: 12\n"
      ],
      "metadata": {
        "id": "C5gVsx_iPSOY"
      }
    },
    {
      "cell_type": "code",
      "source": [],
      "metadata": {
        "id": "Hnep9xxkOcDE"
      },
      "execution_count": null,
      "outputs": []
    },
    {
      "cell_type": "code",
      "source": [
        "b = int(input())\n",
        "y = 0\n",
        "for i in range(1,b+1):\n",
        "    x = i**i/i  # 2**2/2\n",
        "    y = y + x # y = 1\n",
        "print(y)"
      ],
      "metadata": {
        "colab": {
          "base_uri": "https://localhost:8080/"
        },
        "id": "78pD7NwAPU7N",
        "outputId": "4c47990d-1437-4f24-ecc7-38e10be30c51"
      },
      "execution_count": null,
      "outputs": [
        {
          "output_type": "stream",
          "name": "stdout",
          "text": [
            "3\n",
            "12.0\n"
          ]
        }
      ]
    },
    {
      "cell_type": "markdown",
      "source": [
        "2.4\n",
        "Write a python program that takes integer Inputs from the user until the user gives\n",
        "\"STOP\". Print the product of all the numbers.\n",
        "Sample Input1:\n",
        "5\n",
        "6\n",
        "-02\n",
        "7\n",
        "2\n",
        "STOP\n",
        "Sample Output1:\n",
        "-840\n",
        "\n"
      ],
      "metadata": {
        "id": "kfafVZXrSi0U"
      }
    },
    {
      "cell_type": "code",
      "source": [
        "p = 1\n",
        "while True:\n",
        "  num = input()\n",
        "  if num == \"STOP\":\n",
        "    break\n",
        "  else:\n",
        "      p = p * int(num)\n",
        "if p == 1:\n",
        "  print(0)\n",
        "else:\n",
        "  print(p)"
      ],
      "metadata": {
        "colab": {
          "base_uri": "https://localhost:8080/"
        },
        "id": "-iw8p4rDRynW",
        "outputId": "aa3d4b28-a853-47b7-e0ba-e02864d6942f"
      },
      "execution_count": null,
      "outputs": [
        {
          "output_type": "stream",
          "name": "stdout",
          "text": [
            "STOP\n",
            "0\n"
          ]
        }
      ]
    },
    {
      "cell_type": "markdown",
      "source": [
        "**STRING RELATED PROBLEMS**"
      ],
      "metadata": {
        "id": "595gy7rzWmWD"
      }
    },
    {
      "cell_type": "markdown",
      "source": [
        "3.1\n",
        "Write a Python program to count the total number of alphabets, digits, and special\n",
        "characters in a string. Here, space is considered as a special character.\n",
        "________________________________________________________________________________________________________\n",
        "Sample Input:\n",
        "This is CSE110 Course.\n",
        "Sample Output:\n",
        "The number of Alphabets in the string is: 15\n",
        "The number of Digits in the string is : 3\n",
        "The number of Special characters in the string is: 4\n"
      ],
      "metadata": {
        "id": "NnL2QUJKWsd2"
      }
    },
    {
      "cell_type": "code",
      "source": [
        "a = input()\n",
        "al = 0\n",
        "digit = 0\n",
        "special  = 0\n",
        "for i in range(len(a)):\n",
        "  if 65<=ord(a[i])<=90 or 97<=ord(a[i])<=122:\n",
        "    al = al + 1\n",
        "  elif \"0\" <=a[i]<=\"9\":\n",
        "    digit+=1\n",
        "  else:\n",
        "    special += 1\n",
        "print(al,digit,special)"
      ],
      "metadata": {
        "id": "guYpAl1XWwDs"
      },
      "execution_count": null,
      "outputs": []
    },
    {
      "cell_type": "markdown",
      "source": [
        "Write a Python program to find the largest and smallest word in a string. [You are not\n",
        "allowed to use max() and min()]\n",
        "________________________________________________________________________________________________________\n",
        "Sample Input :\n",
        "It is a string with the smallest and largest word.\n",
        "Sample Output :\n",
        "The largest word is “smallest” and the smallest word is 'a'.\n"
      ],
      "metadata": {
        "id": "t_a29aD-Y0bV"
      }
    },
    {
      "cell_type": "code",
      "source": [
        "a = input()\n",
        "largest_word = ''\n",
        "smallest_word = ''\n",
        "current_word = ''\n",
        "for i in range(len(a)):\n",
        "  if a[i] != \" \":\n",
        "    current_word += a[i]\n",
        "  else:\n",
        "    if len(current_word) > len(largest_word):\n",
        "      largest_word = current_word\n",
        "    if len(current_word) < len(smallest_word) or len(smallest_word)==0:\n",
        "        smallest_word = current_word\n",
        "    current_word = ''\n",
        "if len(current_word) > len(largest_word):\n",
        "      largest_word = current_word\n",
        "if len(current_word) < len(smallest_word) or len(smallest_word)==0:\n",
        "        smallest_word = current_word\n",
        "print(largest_word,smallest_word)"
      ],
      "metadata": {
        "colab": {
          "base_uri": "https://localhost:8080/"
        },
        "id": "aHdUnQclY1Bq",
        "outputId": "aba44e5b-f880-47ab-c502-28d6e7b5f896"
      },
      "execution_count": null,
      "outputs": [
        {
          "output_type": "stream",
          "name": "stdout",
          "text": [
            "The quick fox in a jungle\n",
            "jungle a\n"
          ]
        }
      ]
    },
    {
      "cell_type": "code",
      "source": [
        "str3 = input(\"Enter the first string: \")\n",
        "str2 = input(\"Enter the second string: \")\n",
        "str1 = ''\n",
        "for i in range(len(str3)):\n",
        "  if 65 <= ord(str3[i]) <= 90:\n",
        "    str1 += chr(ord(str3[i])+32)\n",
        "  elif 97 <= ord(str3[i]) <= 122:\n",
        "    str1 += str3[i]\n",
        "\n",
        "#lowercase str2 by yourself\n",
        "\n",
        "# Iterate over each character in the first string\n",
        "new_str = \"\"\n",
        "for char in str1:\n",
        "    # Check if the character is present in the second string\n",
        "    if char not in str2:\n",
        "        # Add the character to the new string if it's not present in the second string\n",
        "        new_str += char\n",
        "\n",
        "print(new_str)"
      ],
      "metadata": {
        "id": "FwPlzDDedMpS"
      },
      "execution_count": null,
      "outputs": []
    },
    {
      "cell_type": "code",
      "source": [
        "#task-3.4\n",
        "string = input(\"Enter a string: \")\n",
        "new_str = \"\"\n",
        "\n",
        "# Initialize a variable to keep track of whether the current character is the first character of a word\n",
        "is_first_char = True\n",
        "\n",
        "for char in string:\n",
        "    # Check if the current character is the first character of a word\n",
        "    if is_first_char:\n",
        "        # Convert the current character to uppercase and add it to the new string\n",
        "        new_str += chr(ord(char) - 32)\n",
        "        is_first_char = False\n",
        "    else:\n",
        "        # Add the current character to the new string\n",
        "        new_str += char\n",
        "\n",
        "    # Check if the current character is a space\n",
        "    if char == \" \":\n",
        "        is_first_char = True\n",
        "\n",
        "# Print the new string\n",
        "print(new_str)"
      ],
      "metadata": {
        "id": "SguLGQFaSKRi"
      },
      "execution_count": null,
      "outputs": []
    },
    {
      "cell_type": "code",
      "source": [
        "a =input()#this-is-cse110\n",
        "sp = input()#-\n",
        "word = ''\n",
        "for i in range(len(a)): #a[i] t\n",
        "  if a[i] == sp:\n",
        "    print(word) #the\n",
        "    word = ''\n",
        "  else:\n",
        "    word+=a[i]#the\n",
        "print(word)"
      ],
      "metadata": {
        "id": "h9s3OFtfarFN"
      },
      "execution_count": null,
      "outputs": []
    },
    {
      "cell_type": "code",
      "source": [
        "a = \"wert\"\n",
        "for i in range(len(a)):\n",
        "  if a[i] not in a:\n",
        "    print(\"ase\")"
      ],
      "metadata": {
        "id": "PSwVyDGRbqvb"
      },
      "execution_count": null,
      "outputs": []
    },
    {
      "cell_type": "code",
      "source": [
        "input_string = input()\n",
        "word1 = \"\"\n",
        "i = 0\n",
        "while input_string[i] != \",\":\n",
        "    word1 += input_string[i]\n",
        "    i += 1\n",
        "i += 3  # skip over comma and space\n",
        "\n",
        "# Find the second word\n",
        "word2 = \"\"\n",
        "while i < len(input_string):\n",
        "    word2 += input_string[i]\n",
        "    i += 1\n",
        "\n",
        "# Find common characters\n",
        "common = \"\"\n",
        "for char in word1:\n",
        "    for char2 in word2:\n",
        "        if char == char2:\n",
        "            common += char\n",
        "\n",
        "# Sort common characters\n",
        "sorted_common = \"\"\n",
        "for char in common:\n",
        "    for i in range(len(sorted_common)):\n",
        "        if ord(char) < ord(sorted_common[i]):\n",
        "            sorted_common = char + sorted_common[i:]\n",
        "            break\n",
        "        else:\n",
        "            sorted_common = sorted_common[i:] + char\n",
        "            break\n",
        "    else:\n",
        "        sorted_common += char\n",
        "\n",
        "# Print result\n",
        "print(sorted_common)"
      ],
      "metadata": {
        "id": "nd8f3u00c3rW"
      },
      "execution_count": null,
      "outputs": []
    },
    {
      "cell_type": "markdown",
      "source": [
        "# Write a program where the user gives a string as an input. The string consists of\n",
        "# two word separated by comma followed by two spaces. Now, you have to find all the common\n",
        "# characters between these word and output them in a chronological manner\n",
        "# Example\n",
        "\n",
        "# Input1\n",
        "# Shakib,  Mushfique\n",
        "\n",
        "# Output1\n",
        "# his\n",
        "\n",
        "# Input2\n",
        "# csepro,  noobcs\n",
        "\n",
        "# Output2\n",
        "# coos"
      ],
      "metadata": {
        "id": "RKG9bxxkxESr"
      }
    },
    {
      "cell_type": "code",
      "source": [
        "a = input() # 9\n",
        "last_digit = int(a[-1])\n",
        "sum = 0\n",
        "for i in range(len(a)-1): #for i in a[:len(a)-1]\n",
        "  sum += int(a[i])\n",
        "if last_digit == sum %10:\n",
        "  print(\"Match\")\n",
        "else:\n",
        "  print(\"not match\")"
      ],
      "metadata": {
        "id": "RGQMcX8MxM9u"
      },
      "execution_count": null,
      "outputs": []
    },
    {
      "cell_type": "code",
      "source": [
        "num1 = input() # 12345\n",
        "num2 = input() # 67890\n",
        "even1 = ''\n",
        "even2 = ''\n",
        "odd1 = ''\n",
        "odd2 = ''\n",
        "for i in num1:\n",
        "  if int(i) % 2 == 0:\n",
        "    even1 += i\n",
        "  else:\n",
        "    odd1 += i\n",
        "for j in num2:\n",
        "  if int(j) % 2 == 0:\n",
        "    even2 += j\n",
        "  else:\n",
        "    odd2 += j\n",
        "new_num1 = even1 + odd2\n",
        "print(new_num1)\n",
        "new_num2 = odd1 + even2\n",
        "print(new_num2)\n",
        "print(int(new_num1)-int(new_num2))"
      ],
      "metadata": {
        "colab": {
          "base_uri": "https://localhost:8080/"
        },
        "id": "za7iJRLAAu2i",
        "outputId": "d9ef6542-5886-433c-fae2-aa5af798e257"
      },
      "execution_count": null,
      "outputs": [
        {
          "output_type": "stream",
          "name": "stdout",
          "text": [
            "123456\n",
            "7898\n",
            "24679\n",
            "13588\n",
            "11091\n"
          ]
        }
      ]
    },
    {
      "cell_type": "code",
      "source": [
        "a = input() # It is a string with the smallest and largest word\n",
        "largest_word = \"\"\n",
        "smallest_word = ''\n",
        "current_word = ''\n",
        "for i in range(len(a)):\n",
        "  if a[i] != \" \":\n",
        "    current_word += a[i]\n",
        "  else:\n",
        "    if len(current_word) > len(largest_word):\n",
        "      largest_word = current_word\n",
        "    if len(current_word) < len(smallest_word) or len(smallest_word) == 0:\n",
        "        smallest_word = current_word\n",
        "if len(current_word) > len(largest_word):\n",
        "      largest_word = current_word\n",
        "if len(current_word) < len(smallest_word) or len(smallest_word) == 0:\n",
        "        smallest_word = current_word\n",
        "\n",
        "print(largest_word,smallest_word)"
      ],
      "metadata": {
        "id": "p2gQVeVpDinR"
      },
      "execution_count": null,
      "outputs": []
    },
    {
      "cell_type": "code",
      "source": [
        "a = input()#sakib,  saking\n",
        "word1 = '' #5 = 5\n",
        "word2 = ''\n",
        "for i in range(len(a)):\n",
        "  if a[i] == \",\":\n",
        "    break\n",
        "  else:\n",
        "    word1+=a[i]\n",
        "word2 = a[len(word1)+3:len(a)]\n",
        "common = ''    # saki\n",
        "for char in word1:\n",
        "  for char2  in word2:\n",
        "    if char == char2:\n",
        "      common += char\n",
        "print(word1,word2,common)\n",
        "sorted_common = \"\" # s\n",
        "for char in common: # char = z\n",
        "  for i in range(len(sorted_common)):\n",
        "    if ord(char) < ord(sorted_common[i]):\n",
        "      sorted_common = char + sorted_common[i:]\n",
        "      break\n",
        "    else:\n",
        "      sorted_common = sorted_common[i:] + char\n",
        "  else:\n",
        "      sorted_common += char\n",
        "print(sorted_common)"
      ],
      "metadata": {
        "colab": {
          "base_uri": "https://localhost:8080/"
        },
        "id": "HsCrOOvgM9iu",
        "outputId": "048b006b-e667-46cf-f40f-d156d87b6137"
      },
      "execution_count": null,
      "outputs": [
        {
          "output_type": "stream",
          "name": "stdout",
          "text": [
            "sakib,  saking\n",
            "sakib saking saki\n"
          ]
        }
      ]
    },
    {
      "cell_type": "code",
      "source": [
        "a = input()\n",
        "b = int(input())\n",
        "c = a[b:-1:-1]\n",
        "d = c + a[b+1:len(a)]\n",
        "print(d)"
      ],
      "metadata": {
        "colab": {
          "base_uri": "https://localhost:8080/"
        },
        "id": "MpRGtlK-NgrN",
        "outputId": "24622409-750e-4cc2-f7dd-24991cdfb1c2"
      },
      "execution_count": null,
      "outputs": [
        {
          "output_type": "stream",
          "name": "stdout",
          "text": [
            "345678\n",
            "2\n",
            "543\n"
          ]
        }
      ]
    },
    {
      "cell_type": "code",
      "source": [
        "a = \"python\"\n",
        "print(a[0:-2:])"
      ],
      "metadata": {
        "id": "95Re2npMcw9O"
      },
      "execution_count": null,
      "outputs": []
    },
    {
      "cell_type": "code",
      "source": [
        "#task-25-ungraded\n",
        "n = int(input()) # 0 1 1 2 3 5 8  13       < 10\n",
        "p0 = 0\n",
        "p1 = 1\n",
        "if n == 0:\n",
        "  print(0)\n",
        "elif n == 1:\n",
        "  print(0,1)\n",
        "else:\n",
        "  print(0,1,end=' ')\n",
        "  while p0+p1 <= n: # 2\n",
        "    print(p0+p1,end=' ')  #2\n",
        "    temp = p1  # 1\n",
        "    p1 = p0 + p1 # 1\n",
        "    p0 = temp # 1"
      ],
      "metadata": {
        "colab": {
          "base_uri": "https://localhost:8080/"
        },
        "id": "a_JWdK2addec",
        "outputId": "bf4f3e76-aec1-4eb5-b74f-84b83192a25f"
      },
      "execution_count": null,
      "outputs": [
        {
          "output_type": "stream",
          "name": "stdout",
          "text": [
            "10\n",
            "0 1 1 2 3 5 8 "
          ]
        }
      ]
    },
    {
      "cell_type": "code",
      "source": [
        "string = input()# I love python\n",
        "n = \"\"\n",
        "new_string = \"\"\n",
        "for i in range(len(string)):\n",
        "  if 65 <= ord(string[i]) <= 97:\n",
        "    n+=chr(ord(string[i])+32)\n",
        "  else:\n",
        "    n+=string[i]\n",
        "capitalize_next = True\n",
        "for char in n:\n",
        "    if capitalize_next:\n",
        "        new_string += chr(ord(char)-32)\n",
        "        capitalize_next = False\n",
        "    else:\n",
        "        new_string += char\n",
        "    if char == \" \":\n",
        "        capitalize_next = True\n",
        "print(new_string)"
      ],
      "metadata": {
        "colab": {
          "base_uri": "https://localhost:8080/"
        },
        "id": "WKu1slFlgavG",
        "outputId": "2602ed7f-eaf7-40d2-9652-d76fa6ebb87d"
      },
      "execution_count": null,
      "outputs": [
        {
          "output_type": "stream",
          "name": "stdout",
          "text": [
            "i love python\n",
            "I Love Python\n"
          ]
        }
      ]
    },
    {
      "cell_type": "code",
      "source": [],
      "metadata": {
        "id": "rxUJAXR_D7No"
      },
      "execution_count": null,
      "outputs": []
    }
  ]
}