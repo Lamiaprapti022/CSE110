{
  "nbformat": 4,
  "nbformat_minor": 0,
  "metadata": {
    "colab": {
      "provenance": []
    },
    "kernelspec": {
      "name": "python3",
      "display_name": "Python 3"
    },
    "language_info": {
      "name": "python"
    }
  },
  "cells": [
    {
      "cell_type": "code",
      "execution_count": null,
      "metadata": {
        "colab": {
          "base_uri": "https://localhost:8080/"
        },
        "id": "7Svys06U8TOJ",
        "outputId": "be3e223e-e07e-4d84-c198-ca5a782b8cb3"
      },
      "outputs": [
        {
          "output_type": "stream",
          "name": "stdout",
          "text": [
            "4\n",
            "5\n",
            "sum=9\n",
            "difference=-1\n",
            "product=20\n"
          ]
        }
      ],
      "source": [
        "#1\n",
        "a=int(input())\n",
        "b=int(input())\n",
        "sum=a+b\n",
        "difference=a-b\n",
        "product=a*b\n",
        "print(\"sum={}\".format(sum))\n",
        "print((\"difference={}\".format(difference)))\n",
        "print((\"product={}\".format(product)))"
      ]
    },
    {
      "cell_type": "code",
      "source": [
        "#2\n",
        "import math\n",
        "radius=float(input())\n",
        "area= math.pi*radius**2\n",
        "Circumference= 2*math.pi*radius\n",
        "print(area)\n",
        "print(Circumference)\n"
      ],
      "metadata": {
        "colab": {
          "base_uri": "https://localhost:8080/"
        },
        "id": "m_9BepHO-sKp",
        "outputId": "e2b18adf-e216-4ea4-b6dd-f91f8a64d940"
      },
      "execution_count": null,
      "outputs": [
        {
          "output_type": "stream",
          "name": "stdout",
          "text": [
            "4\n",
            "50.26548245743669\n",
            "25.132741228718345\n"
          ]
        }
      ]
    },
    {
      "cell_type": "code",
      "source": [
        "#3\n",
        "a=int(input())\n",
        "b=int(input())\n",
        "if a>b:\n",
        "  print(\"first is greater\")\n",
        "elif b>a:\n",
        "  print(\"second is greater\")\n",
        "else:\n",
        "  print(\"the numbers are equal\")\n",
        "\n"
      ],
      "metadata": {
        "colab": {
          "base_uri": "https://localhost:8080/"
        },
        "id": "2IfP2BU6_i0B",
        "outputId": "5762990a-3514-4969-d573-1f290c776cc9"
      },
      "execution_count": null,
      "outputs": [
        {
          "output_type": "stream",
          "name": "stdout",
          "text": [
            "7\n",
            "3\n",
            "first is greater\n"
          ]
        }
      ]
    },
    {
      "cell_type": "code",
      "source": [
        "#4\n",
        "num1=int(input())\n",
        "num2=int(input())\n",
        "if num1>num2:\n",
        "  print(num1-num2)\n",
        "elif num2>num1:\n",
        "  print(num2-num1)\n",
        "else:\n",
        "  print(num1-num2)"
      ],
      "metadata": {
        "colab": {
          "base_uri": "https://localhost:8080/"
        },
        "id": "OyK9REa2AhLJ",
        "outputId": "962d8636-16f2-46d6-da9d-96552c363456"
      },
      "execution_count": null,
      "outputs": [
        {
          "output_type": "stream",
          "name": "stdout",
          "text": [
            "-40\n",
            "-4\n",
            "36\n"
          ]
        }
      ]
    },
    {
      "cell_type": "code",
      "source": [
        "#5\n",
        "num=int(input())\n",
        "if num%2==0:\n",
        "  print(\"the number is even\")\n",
        "else:\n",
        "  print(\"the number is odd\")"
      ],
      "metadata": {
        "colab": {
          "base_uri": "https://localhost:8080/"
        },
        "id": "QcXeYudyDOhN",
        "outputId": "aa9132d5-3a93-4845-c061-a44706669f62"
      },
      "execution_count": null,
      "outputs": [
        {
          "output_type": "stream",
          "name": "stdout",
          "text": [
            "7\n",
            "the number is odd\n"
          ]
        }
      ]
    },
    {
      "cell_type": "code",
      "source": [
        "#6\n",
        "num=int(input())\n",
        "if num%2==0 and num%5!=0 or num%2!=0 and num%5==0:\n",
        "  print(num)\n",
        "else:\n",
        "  print(\"Not a multiple of 2 OR 5\")"
      ],
      "metadata": {
        "colab": {
          "base_uri": "https://localhost:8080/"
        },
        "id": "Ed8uPnwoEKog",
        "outputId": "3e72b9f5-ebb2-45c8-86e5-df768fe342c9"
      },
      "execution_count": null,
      "outputs": [
        {
          "output_type": "stream",
          "name": "stdout",
          "text": [
            "3\n",
            "Not a multiple of 2 OR 5\n"
          ]
        }
      ]
    },
    {
      "cell_type": "code",
      "source": [
        "#7\n",
        "num=int(input())\n",
        "if num%2==0 and num%5==0:\n",
        "  print(\"Multiple of 2 and 5 both\")\n",
        "elif num%2==0 or num%5==0:\n",
        "  print(num)\n",
        "else:\n",
        "  print(\"Not a multiple we want\")\n",
        "\n",
        "\n"
      ],
      "metadata": {
        "id": "oEkRiYRmE8wp",
        "colab": {
          "base_uri": "https://localhost:8080/"
        },
        "outputId": "fa76f60a-3453-45b4-ddff-08bec3da62fb"
      },
      "execution_count": null,
      "outputs": [
        {
          "output_type": "stream",
          "name": "stdout",
          "text": [
            "10\n",
            "Multiple of 2 and 5 both\n"
          ]
        }
      ]
    },
    {
      "cell_type": "code",
      "source": [
        "#8\n",
        "num=int(input())\n",
        "if num%2==0 and num%5==0:\n",
        "  print(num)\n",
        "else:\n",
        "  print(\"Not multiple of 2 and 5 both\")\n"
      ],
      "metadata": {
        "colab": {
          "base_uri": "https://localhost:8080/"
        },
        "id": "Dbm_WNDoIpKk",
        "outputId": "368ed418-982c-4258-beb2-cbd2eaccfaa6"
      },
      "execution_count": null,
      "outputs": [
        {
          "output_type": "stream",
          "name": "stdout",
          "text": [
            "15\n",
            "Not multiple of 2 and 5 both\n"
          ]
        }
      ]
    },
    {
      "cell_type": "code",
      "source": [
        "#9\n",
        "seconds=int(input())\n",
        "hours=seconds//3600\n",
        "sec=seconds%3600\n",
        "mins=sec//60\n",
        "secs=seconds%60\n",
        "print(\"Hours: {} Minutes: {} Seconds: {}\".format(hours,mins,secs))\n"
      ],
      "metadata": {
        "colab": {
          "base_uri": "https://localhost:8080/"
        },
        "id": "BtdxwljSJ7c7",
        "outputId": "82dcf2ce-7f5b-40c4-db27-6a6b6714792e"
      },
      "execution_count": null,
      "outputs": [
        {
          "output_type": "stream",
          "name": "stdout",
          "text": [
            "10000\n",
            "Hours: 2 Minutes: 46 Seconds: 40\n"
          ]
        }
      ]
    },
    {
      "cell_type": "code",
      "source": [
        "#10\n",
        "hours_worked=int(input())\n",
        "if 0<=hours_worked<=168:\n",
        "  if hours_worked<=40:\n",
        "    print(hours_worked*200)\n",
        "  else:\n",
        "    print(8000+(hours_worked-40)*300)\n",
        "else:\n",
        "  if hours_worked<0:\n",
        "    print(\"hour cannot be negative\")\n",
        "  else:\n",
        "    print(\"impossible to work more than 168 hours weekly\")"
      ],
      "metadata": {
        "colab": {
          "base_uri": "https://localhost:8080/"
        },
        "id": "d3pzrnZnPTHy",
        "outputId": "b46e5758-5ede-4445-d2a0-5783fadf139c"
      },
      "execution_count": null,
      "outputs": [
        {
          "output_type": "stream",
          "name": "stdout",
          "text": [
            "-10\n",
            "hour cannot be negative\n"
          ]
        }
      ]
    }
  ]
}